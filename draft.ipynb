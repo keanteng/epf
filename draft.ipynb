{
 "cells": [
  {
   "cell_type": "markdown",
   "metadata": {},
   "source": [
    "# Raod to 1 Million\n",
    "1. https://payroll.my/\n",
    "2. Things to note: EPF, SOCSO, EIS and Tax (Income Tax)\n",
    "\n",
    "Resources:\n",
    "https://www.hasil.gov.my/en/individual/individual-life-cycle/how-to-declare-income/tax-rate/\n",
    "https://www.perkeso.gov.my/en/rate-of-contribution.html"
   ]
  },
  {
   "cell_type": "code",
   "execution_count": 1,
   "metadata": {},
   "outputs": [],
   "source": [
    "import numpy as np\n",
    "import matplotlib.pyplot as plt\n",
    "import pandas as pd\n",
    "import seaborn as sns\n",
    "import warnings\n",
    "\n",
    "#settings\n",
    "warnings.filterwarnings('ignore')\n",
    "\n",
    "# fig size\n",
    "plt.rcParams['figure.figsize'] = (12, 8)"
   ]
  },
  {
   "cell_type": "code",
   "execution_count": 2,
   "metadata": {},
   "outputs": [],
   "source": [
    "# input data\n",
    "salary = 2990\n",
    "bonus = 1000\n",
    "\n",
    "# read data\n",
    "df = pd.ExcelFile('data/kwsp_schedule.xlsx')\n",
    "df2 = df.parse('citizen')\n",
    "epf_citizen = pd.read_excel(df, 'citizen')\n",
    "epf_foreign = pd.read_excel(df, 'foreigner')"
   ]
  },
  {
   "cell_type": "code",
   "execution_count": 23,
   "metadata": {},
   "outputs": [
    {
     "name": "stdout",
     "output_type": "stream",
     "text": [
      "Index:  150\n"
     ]
    }
   ],
   "source": [
    "# matching\n",
    "a = map(lambda x: x <= salary, epf_citizen['upper'])\n",
    "\n",
    "# get index\n",
    "idx = list(a).index(False)\n",
    "print('Index: ', idx)"
   ]
  },
  {
   "cell_type": "code",
   "execution_count": 24,
   "metadata": {},
   "outputs": [
    {
     "data": {
      "text/html": [
       "<div>\n",
       "<style scoped>\n",
       "    .dataframe tbody tr th:only-of-type {\n",
       "        vertical-align: middle;\n",
       "    }\n",
       "\n",
       "    .dataframe tbody tr th {\n",
       "        vertical-align: top;\n",
       "    }\n",
       "\n",
       "    .dataframe thead th {\n",
       "        text-align: right;\n",
       "    }\n",
       "</style>\n",
       "<table border=\"1\" class=\"dataframe\">\n",
       "  <thead>\n",
       "    <tr style=\"text-align: right;\">\n",
       "      <th></th>\n",
       "      <th>lower</th>\n",
       "      <th>upper</th>\n",
       "      <th>employer</th>\n",
       "      <th>employee</th>\n",
       "      <th>total</th>\n",
       "    </tr>\n",
       "  </thead>\n",
       "  <tbody>\n",
       "    <tr>\n",
       "      <th>148</th>\n",
       "      <td>2940.01</td>\n",
       "      <td>2960</td>\n",
       "      <td>385</td>\n",
       "      <td>326</td>\n",
       "      <td>711</td>\n",
       "    </tr>\n",
       "    <tr>\n",
       "      <th>149</th>\n",
       "      <td>2960.01</td>\n",
       "      <td>2980</td>\n",
       "      <td>388</td>\n",
       "      <td>328</td>\n",
       "      <td>716</td>\n",
       "    </tr>\n",
       "    <tr>\n",
       "      <th>150</th>\n",
       "      <td>2980.01</td>\n",
       "      <td>3000</td>\n",
       "      <td>390</td>\n",
       "      <td>330</td>\n",
       "      <td>720</td>\n",
       "    </tr>\n",
       "    <tr>\n",
       "      <th>151</th>\n",
       "      <td>3000.01</td>\n",
       "      <td>3020</td>\n",
       "      <td>393</td>\n",
       "      <td>333</td>\n",
       "      <td>726</td>\n",
       "    </tr>\n",
       "  </tbody>\n",
       "</table>\n",
       "</div>"
      ],
      "text/plain": [
       "       lower  upper  employer  employee  total\n",
       "148  2940.01   2960       385       326    711\n",
       "149  2960.01   2980       388       328    716\n",
       "150  2980.01   3000       390       330    720\n",
       "151  3000.01   3020       393       333    726"
      ]
     },
     "execution_count": 24,
     "metadata": {},
     "output_type": "execute_result"
    }
   ],
   "source": [
    "epf_citizen[148:152]"
   ]
  },
  {
   "cell_type": "markdown",
   "metadata": {},
   "source": [
    "# Goal Seek"
   ]
  },
  {
   "cell_type": "code",
   "execution_count": 29,
   "metadata": {},
   "outputs": [
    {
     "name": "stdout",
     "output_type": "stream",
     "text": [
      "Contribution:  720\n",
      "Years:  33.14672470739156\n"
     ]
    }
   ],
   "source": [
    "# 1 month contribution\n",
    "contribution = epf_citizen['total'][idx]\n",
    "print('Contribution: ', contribution)\n",
    "\n",
    "# compound interest\n",
    "compound_rate = 0.065\n",
    "\n",
    "goal = 10**6\n",
    "r = 1 + compound_rate\n",
    "\n",
    "# years to reach goal\n",
    "years = 1/np.log(r)*np.log((goal*(r-1))/(12*contribution*r) + 1)\n",
    "print('Years: ', years)"
   ]
  },
  {
   "cell_type": "markdown",
   "metadata": {},
   "source": [
    "- Make extra contribution"
   ]
  },
  {
   "cell_type": "code",
   "execution_count": null,
   "metadata": {},
   "outputs": [],
   "source": []
  }
 ],
 "metadata": {
  "kernelspec": {
   "display_name": "Python 3",
   "language": "python",
   "name": "python3"
  },
  "language_info": {
   "codemirror_mode": {
    "name": "ipython",
    "version": 3
   },
   "file_extension": ".py",
   "mimetype": "text/x-python",
   "name": "python",
   "nbconvert_exporter": "python",
   "pygments_lexer": "ipython3",
   "version": "3.11.4"
  }
 },
 "nbformat": 4,
 "nbformat_minor": 2
}
