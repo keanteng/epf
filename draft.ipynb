{
 "cells": [
  {
   "cell_type": "markdown",
   "metadata": {},
   "source": [
    "# Raod to 1 Million\n",
    "1. https://payroll.my/\n",
    "2. Things to note: EPF, SOCSO, EIS and Tax (Income Tax)\n",
    "\n",
    "Resources:\n",
    "https://www.hasil.gov.my/en/individual/individual-life-cycle/how-to-declare-income/tax-rate/\n",
    "https://www.perkeso.gov.my/en/rate-of-contribution.html"
   ]
  },
  {
   "cell_type": "code",
   "execution_count": null,
   "metadata": {},
   "outputs": [],
   "source": []
  }
 ],
 "metadata": {
  "language_info": {
   "name": "python"
  }
 },
 "nbformat": 4,
 "nbformat_minor": 2
}
